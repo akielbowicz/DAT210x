{
 "cells": [
  {
   "cell_type": "code",
   "execution_count": null,
   "metadata": {},
   "outputs": [],
   "source": [
    "df.my_feature.fillna( df.my_feature.mean() )\n",
    "df.fillna(0)\n",
    "df.fillna(method='ffill')  # fill the values forward\n",
    "df.fillna(method='bfill')  # fill the values in reverse\n",
    "df.fillna(limit=5)\n",
    "df.interpolate(method='polynomial', order=2)"
   ]
  },
  {
   "cell_type": "markdown",
   "metadata": {},
   "source": [
    "## Droppping Data"
   ]
  },
  {
   "cell_type": "code",
   "execution_count": null,
   "metadata": {},
   "outputs": [],
   "source": [
    "df = df.dropna(axis=0)  # remove any row with nans\n",
    "df = df.dropna(axis=1)  # remove any column with nans\n",
    "\t\n",
    "# Drop any row with NaNs that has at least 4 non-NaNs within it:\n",
    "df = df.dropna(axis=0, thresh=4)\n",
    "\n",
    "# Axis=1 for columns\n",
    "df = df.drop(labels=['Features', 'To', 'Delete'], axis=1)\n",
    "\n",
    "\n",
    "df = df.drop_duplicates(subset=['Feature_1', 'Feature_2'])\n",
    "df = df.reset_index(drop=True)\n",
    "\n",
    "df = df.dropna(axis=0, thresh=2).drop(labels=['ColA', axis=1]).drop_duplicates(subset=['ColB', 'ColC']).reset_index()"
   ]
  },
  {
   "cell_type": "markdown",
   "metadata": {},
   "source": [
    "## More Wrangling"
   ]
  },
  {
   "cell_type": "code",
   "execution_count": null,
   "metadata": {},
   "outputs": [],
   "source": [
    "df.Date = pd.to_datetime(df.Date, errors='coerce')\n",
    "df.Height = pd.to_numeric(df.Height, errors='coerce')\n",
    "df.Weight = pd.to_numeric(df.Weight, errors='coerce')\n",
    "df.Age = pd.to_numeric(df.Age, errors='coerce')\n",
    "df.dtypes"
   ]
  },
  {
   "cell_type": "code",
   "execution_count": null,
   "metadata": {},
   "outputs": [],
   "source": [
    "df.Age.unique()\n",
    "\n",
    "df.Age.value_counts()"
   ]
  }
 ],
 "metadata": {
  "kernelspec": {
   "display_name": "Python 3",
   "language": "python",
   "name": "python3"
  },
  "language_info": {
   "codemirror_mode": {
    "name": "ipython",
    "version": 3
   },
   "file_extension": ".py",
   "mimetype": "text/x-python",
   "name": "python",
   "nbconvert_exporter": "python",
   "pygments_lexer": "ipython3",
   "version": "3.7.0"
  }
 },
 "nbformat": 4,
 "nbformat_minor": 2
}
